{
 "metadata": {
  "name": "",
  "signature": "sha256:ba93ac289792851ef2fef7147512f3aa8b9d19274778fc4818eae2603f120dca"
 },
 "nbformat": 3,
 "nbformat_minor": 0,
 "worksheets": [
  {
   "cells": [
    {
     "cell_type": "heading",
     "level": 1,
     "metadata": {},
     "source": [
      "Atlases in ConWhAt"
     ]
    }
   ],
   "metadata": {}
  }
 ]
}