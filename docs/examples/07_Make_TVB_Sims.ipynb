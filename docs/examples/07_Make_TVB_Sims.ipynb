{
 "cells": [
  {
   "cell_type": "markdown",
   "metadata": {},
   "source": [
    "# Set up TVB Simulations from Atlas analysis outputs"
   ]
  },
  {
   "cell_type": "code",
   "execution_count": 1,
   "metadata": {},
   "outputs": [
    {
     "name": "stderr",
     "output_type": "stream",
     "text": [
      "/global/home/hpc3230/Software/miniconda2/envs/jupyter/lib/python2.7/site-packages/h5py/__init__.py:36: FutureWarning: Conversion of the second argument of issubdtype from `float` to `np.floating` is deprecated. In future, it will be treated as `np.float64 == np.dtype(float).type`.\n",
      "  from ._conv import register_converters as _register_converters\n"
     ]
    }
   ],
   "source": [
    "# ConWhAt stuff\n",
    "from conwhat import VolConnAtlas,StreamConnAtlas,VolTractAtlas,StreamTractAtlas\n",
    "from conwhat.viz.volume import plot_vol_scatter\n",
    "\n",
    "# Neuroimaging stuff\n",
    "import nibabel as nib\n",
    "from nilearn.plotting import (plot_stat_map,plot_surf_roi,plot_roi,\n",
    "                             plot_connectome,find_xyz_cut_coords)\n",
    "from nilearn.image import resample_to_img\n",
    "\n",
    "# Viz stuff\n",
    "%matplotlib inline\n",
    "from matplotlib import pyplot as plt\n",
    "import seaborn as sns\n",
    "\n",
    "# Generic stuff\n",
    "import glob, numpy as np, pandas as pd, networkx as nx\n",
    "from datetime import datetime"
   ]
  },
  {
   "cell_type": "markdown",
   "metadata": {},
   "source": [
    "We now use the synthetic lesion constructed in the previous example in a ConWhAt lesion analysis."
   ]
  },
  {
   "cell_type": "code",
   "execution_count": 2,
   "metadata": {},
   "outputs": [],
   "source": [
    "lesion_file = 'synthetic_lesion_20mm_sphere_-46_-60_6.nii.gz' # we created this file from scratch in the previous example"
   ]
  },
  {
   "cell_type": "code",
   "execution_count": 3,
   "metadata": {},
   "outputs": [],
   "source": [
    "cw_atlases_dir = '/global/scratch/hpc3230/Data/conwhat_atlases'  # change this accordingly\n",
    "atlas_name = 'CWL2k8Sc33Vol3d100s_v01'\n",
    "atlas_dir = '%s/%s' %(cw_atlases_dir, atlas_name)"
   ]
  },
  {
   "cell_type": "code",
   "execution_count": 4,
   "metadata": {},
   "outputs": [
    {
     "name": "stdout",
     "output_type": "stream",
     "text": [
      "loading file mapping\n",
      "loading vol bbox\n",
      "loading connectivity\n"
     ]
    }
   ],
   "source": [
    "cw_vca = VolConnAtlas(atlas_dir=atlas_dir)"
   ]
  },
  {
   "cell_type": "code",
   "execution_count": 5,
   "metadata": {},
   "outputs": [],
   "source": [
    "idxs = 'all' # alternatively, something like: range(1,100), indicates the first 100 cnxns (rows in .vmfs)"
   ]
  },
  {
   "cell_type": "code",
   "execution_count": 6,
   "metadata": {},
   "outputs": [
    {
     "name": "stdout",
     "output_type": "stream",
     "text": [
      "computing hit stats for roi synthetic_lesion_20mm_sphere_-46_-60_6.nii.gz\n"
     ]
    }
   ],
   "source": [
    "jlc_dir = '/global/scratch/hpc3230/joblib_cache_dir' # this is the cache dir where joblib writes temporary files\n",
    "lo_df,lo_nx = cw_vca.compute_hit_stats(lesion_file,idxs,n_jobs=4,joblib_cache_dir=jlc_dir)"
   ]
  },
  {
   "cell_type": "code",
   "execution_count": 7,
   "metadata": {},
   "outputs": [],
   "source": [
    "tpr_adj = nx.to_pandas_adjacency(lo_nx,weight='TPR')\n",
    "cpr_adj = nx.to_pandas_adjacency(lo_nx,weight='corr_thrbin')"
   ]
  },
  {
   "cell_type": "code",
   "execution_count": 8,
   "metadata": {},
   "outputs": [
    {
     "ename": "NameError",
     "evalue": "name 'roivals' is not defined",
     "output_type": "error",
     "traceback": [
      "\u001b[0;31m---------------------------------------------------------------------------\u001b[0m",
      "\u001b[0;31mNameError\u001b[0m                                 Traceback (most recent call last)",
      "\u001b[0;32m<ipython-input-8-54e3a595a650>\u001b[0m in \u001b[0;36m<module>\u001b[0;34m()\u001b[0m\n\u001b[1;32m      4\u001b[0m \u001b[0;34m\u001b[0m\u001b[0m\n\u001b[1;32m      5\u001b[0m ccs = {roival: find_xyz_cut_coords(nib.Nifti1Image((dat==roival).astype(int),img.affine),\n\u001b[0;32m----> 6\u001b[0;31m                                    activation_threshold=0) for roival in roivals}\n\u001b[0m\u001b[1;32m      7\u001b[0m \u001b[0mccs_arr\u001b[0m \u001b[0;34m=\u001b[0m \u001b[0mnp\u001b[0m\u001b[0;34m.\u001b[0m\u001b[0marray\u001b[0m\u001b[0;34m(\u001b[0m\u001b[0mccs\u001b[0m\u001b[0;34m.\u001b[0m\u001b[0mvalues\u001b[0m\u001b[0;34m(\u001b[0m\u001b[0;34m)\u001b[0m\u001b[0;34m)\u001b[0m\u001b[0;34m\u001b[0m\u001b[0m\n",
      "\u001b[0;31mNameError\u001b[0m: name 'roivals' is not defined"
     ]
    }
   ],
   "source": [
    "parc_img = cw_vca.region_nii\n",
    "parc_dat = parc_img.get_data()\n",
    "parc_vals = np.unique(parc_dat)[1:]\n",
    "\n",
    "ccs = {roival: find_xyz_cut_coords(nib.Nifti1Image((dat==roival).astype(int),img.affine),\n",
    "                                   activation_threshold=0) for roival in roivals}\n",
    "ccs_arr = np.array(ccs.values())"
   ]
  },
  {
   "cell_type": "code",
   "execution_count": null,
   "metadata": {},
   "outputs": [],
   "source": []
  },
  {
   "cell_type": "code",
   "execution_count": null,
   "metadata": {},
   "outputs": [],
   "source": []
  },
  {
   "cell_type": "code",
   "execution_count": null,
   "metadata": {},
   "outputs": [],
   "source": [
    "import sys\n",
    "sys.path.append('~/Code/libraries_of_mine/github/tvb-library')\n",
    "sys.path.append('~/Code/libraries_of_mine/github/tvb-data')\n",
    "\n",
    "from tvb.simulator.lab import *"
   ]
  },
  {
   "cell_type": "code",
   "execution_count": null,
   "metadata": {},
   "outputs": [],
   "source": [
    "gamma_sp = 1.21\n",
    "epsilon_sp =  12.3083\n",
    "\n",
    "# is this the correct? \n",
    "# - units in Spiegler are S^-1. \n",
    "# - default value for g2do d is 0.02\n",
    "# - so this gives 0.07674\n",
    "eta_sp = (1/1000.) * 76.74    #eta_sp = 76.74 # 1. # 76.74 ##1. # 76.74 # 1.\n",
    "\n",
    "\n",
    "\n",
    "sp_g2do_params = dict(d = eta_sp,\n",
    "                      tau = 1.,\n",
    "                      f = 1.,\n",
    "                      e = 0., \n",
    "                      g = -gamma_sp,\n",
    "                      alpha = 1., \n",
    "                      gamma = 1., \n",
    "                      c = 0.,\n",
    "                      b= -epsilon_sp, # should not be negative? LOOKS LIKE IT AL COMES DOWN TO THIS PARAM\n",
    "                      beta = 0,\n",
    "                      a = 0.)"
   ]
  },
  {
   "cell_type": "code",
   "execution_count": null,
   "metadata": {},
   "outputs": [],
   "source": [
    "def run_g2do_sim(conn,continue_sim=None, cs=1., D=0.001, cv=3.0, dt=0.5, \n",
    "                simlen=1e3,int_type='heun_stoch', burn_in=500,\n",
    "                 g2do_params={},initconds = None,return_B=True,return_V=True):\n",
    "    \n",
    "    if int_type=='heun_stoch':\n",
    "        solver = integrators.HeunStochastic(dt=dt,noise=noise.Additive(nsig=array([D])))\n",
    "    elif int_type=='euler_stoch':\n",
    "        solver = integrators.EulerStochastic(dt=dt,noise=noise.Additive(nsig=array([D])))\n",
    "    elif int_type == 'heun_det':\n",
    "        solver = integrators.HeunDeterministic(dt=dt)\n",
    "        \n",
    "    if continue_sim == None:\n",
    "      sim = simulator.Simulator(\n",
    "          model=models.Generic2dOscillator(**g2do_params),\n",
    "          connectivity=conn,\n",
    "          coupling=coupling.Linear(a=cs),\n",
    "          integrator=solver,\n",
    "          monitors=(monitors.TemporalAverage(period=5.0),# 200 Hz\n",
    "                    monitors.Bold())\n",
    "      )\n",
    "      sim.configure()\n",
    "        \n",
    "    else: \n",
    "      sim = continue_sim\n",
    "    \n",
    "    if initconds:\n",
    "        _ = sim.run(simulation_length=5.)\n",
    "        sim.history = np.ones_like(sim.history)*initconds\n",
    "            \n",
    "    if burn_in:\n",
    "        _ = sim.run(simulation_length=burn_in)\n",
    "        \n",
    "    res = sim.run(simulation_length=simlen)\n",
    "    (V_ts,V_ys),(B_ts,B_ys) = res\n",
    "    \n",
    "    if return_B:\n",
    "      df_B = pd.DataFrame(np.squeeze(B_ys), index=B_ts)        \n",
    "    else: \n",
    "      df_B = None\n",
    "    \n",
    "    if return_V:\n",
    "      df_V = pd.DataFrame(np.squeeze(V_ys), index=V_ts)\n",
    "    else: \n",
    "     df_V = None\n",
    "        \n",
    "    return df_V,df_B,sim"
   ]
  },
  {
   "cell_type": "code",
   "execution_count": null,
   "metadata": {},
   "outputs": [],
   "source": [
    "Build a connectivity "
   ]
  },
  {
   "cell_type": "code",
   "execution_count": null,
   "metadata": {},
   "outputs": [],
   "source": [
    "conn = connectivity.Connectivity()\n",
    "conn.weights = cw_vca.weights\n",
    "conn."
   ]
  },
  {
   "cell_type": "code",
   "execution_count": null,
   "metadata": {},
   "outputs": [],
   "source": []
  },
  {
   "cell_type": "code",
   "execution_count": null,
   "metadata": {},
   "outputs": [],
   "source": []
  },
  {
   "cell_type": "code",
   "execution_count": null,
   "metadata": {},
   "outputs": [],
   "source": [
    "origconn = connectivity.Connectivity(load_default=True)\n",
    "origconn.configure()\n",
    "res = run_g2do_sim(origconn,initconds=1.,int_type='heun_det')#,burn_in=None)\n",
    "tvbcaV_ic1hd_ref,tvbcaB_ic1hd_ref,tvbcasims_ic1hd_ref = res    \n",
    "tvbcaVc_ic1hd_ref = tvbcaV_ic1hd_ref.corr()\n",
    "res = run_g2do_sim(origconn,initconds=None,int_type='heun_det')#,burn_in=None)\n",
    "tvbcaV_icrhd_ref,tvbcaB_icrhd_ref,tvbcasims_icrhd_ref = res    \n",
    "tvbcaVc_icrhd_ref = tvbcaV_icrhd_ref.corr()\n",
    "res = run_g2do_sim(origconn,initconds=None,int_type='heun_stoch')#,burn_in=None)\n",
    "tvbcaV_icrhs_ref,tvbcaB_icrhs_ref,tvbcasims_icrhs_ref = res    \n",
    "tvbcaVc_icrhs_ref = tvbcaV_icrhs_ref.corr()"
   ]
  }
 ],
 "metadata": {
  "kernelspec": {
   "display_name": "Python 2",
   "language": "python",
   "name": "python2"
  },
  "language_info": {
   "codemirror_mode": {
    "name": "ipython",
    "version": 2
   },
   "file_extension": ".py",
   "mimetype": "text/x-python",
   "name": "python",
   "nbconvert_exporter": "python",
   "pygments_lexer": "ipython2",
   "version": "2.7.14"
  },
  "nbTranslate": {
   "displayLangs": [
    "*"
   ],
   "hotkey": "alt-t",
   "langInMainMenu": true,
   "sourceLang": "en",
   "targetLang": "fr",
   "useGoogleTranslate": true
  },
  "toc": {
   "nav_menu": {},
   "number_sections": false,
   "sideBar": false,
   "skip_h1_title": false,
   "toc_cell": false,
   "toc_position": {},
   "toc_section_display": "block",
   "toc_window_display": true
  }
 },
 "nbformat": 4,
 "nbformat_minor": 2
}
